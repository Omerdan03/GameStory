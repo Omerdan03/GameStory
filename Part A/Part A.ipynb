{
 "cells": [
  {
   "cell_type": "code",
   "execution_count": 1,
   "id": "9914dfec-7ac2-4b57-89cc-c5265584a112",
   "metadata": {},
   "outputs": [],
   "source": [
    "import pandas as pd\n",
    "import matplotlib.pyplot as plt"
   ]
  },
  {
   "cell_type": "markdown",
   "id": "ca661088-d2d1-4b04-b8d5-b2e950b459c2",
   "metadata": {},
   "source": [
    "## Read the data"
   ]
  },
  {
   "cell_type": "code",
   "execution_count": 2,
   "id": "2579c197-d10f-4a49-91bd-45a649574558",
   "metadata": {},
   "outputs": [],
   "source": [
    "players_df = pd.read_csv(\"../data/players.csv\")\n",
    "sessions_df = pd.read_csv(\"../data/sessions.csv\")\n",
    "tournaments_df = pd.read_csv(\"../data/tournaments.csv\")\n",
    "transactions_df = pd.read_csv(\"../data/transactions.csv\")"
   ]
  },
  {
   "cell_type": "code",
   "execution_count": 3,
   "id": "92fe972c-fbeb-42c3-be45-59aa27a5f965",
   "metadata": {},
   "outputs": [
    {
     "data": {
      "text/html": [
       "<div>\n",
       "<style scoped>\n",
       "    .dataframe tbody tr th:only-of-type {\n",
       "        vertical-align: middle;\n",
       "    }\n",
       "\n",
       "    .dataframe tbody tr th {\n",
       "        vertical-align: top;\n",
       "    }\n",
       "\n",
       "    .dataframe thead th {\n",
       "        text-align: right;\n",
       "    }\n",
       "</style>\n",
       "<table border=\"1\" class=\"dataframe\">\n",
       "  <thead>\n",
       "    <tr style=\"text-align: right;\">\n",
       "      <th></th>\n",
       "      <th>player_id</th>\n",
       "      <th>country</th>\n",
       "      <th>signup_date</th>\n",
       "      <th>acquisition_channel</th>\n",
       "    </tr>\n",
       "  </thead>\n",
       "  <tbody>\n",
       "    <tr>\n",
       "      <th>0</th>\n",
       "      <td>1</td>\n",
       "      <td>CA</td>\n",
       "      <td>2024-11-09 02:55:26</td>\n",
       "      <td>Facebook</td>\n",
       "    </tr>\n",
       "    <tr>\n",
       "      <th>1</th>\n",
       "      <td>2</td>\n",
       "      <td>ZA</td>\n",
       "      <td>2025-01-10 10:19:12</td>\n",
       "      <td>Organic</td>\n",
       "    </tr>\n",
       "    <tr>\n",
       "      <th>2</th>\n",
       "      <td>3</td>\n",
       "      <td>CA</td>\n",
       "      <td>2024-12-30 13:35:03</td>\n",
       "      <td>Google</td>\n",
       "    </tr>\n",
       "    <tr>\n",
       "      <th>3</th>\n",
       "      <td>4</td>\n",
       "      <td>GB</td>\n",
       "      <td>2024-12-10 22:30:37</td>\n",
       "      <td>Referral</td>\n",
       "    </tr>\n",
       "    <tr>\n",
       "      <th>4</th>\n",
       "      <td>5</td>\n",
       "      <td>FR</td>\n",
       "      <td>2024-12-10 09:42:18</td>\n",
       "      <td>Facebook</td>\n",
       "    </tr>\n",
       "  </tbody>\n",
       "</table>\n",
       "</div>"
      ],
      "text/plain": [
       "   player_id country          signup_date acquisition_channel\n",
       "0          1      CA  2024-11-09 02:55:26            Facebook\n",
       "1          2      ZA  2025-01-10 10:19:12             Organic\n",
       "2          3      CA  2024-12-30 13:35:03              Google\n",
       "3          4      GB  2024-12-10 22:30:37            Referral\n",
       "4          5      FR  2024-12-10 09:42:18            Facebook"
      ]
     },
     "metadata": {},
     "output_type": "display_data"
    },
    {
     "data": {
      "text/plain": [
       "(20000, 4)"
      ]
     },
     "execution_count": 3,
     "metadata": {},
     "output_type": "execute_result"
    }
   ],
   "source": [
    "display(players_df.head())\n",
    "players_df.shape"
   ]
  },
  {
   "cell_type": "code",
   "execution_count": 4,
   "id": "584c9f59-e059-4a87-b6b3-498370c12b56",
   "metadata": {},
   "outputs": [
    {
     "data": {
      "text/html": [
       "<div>\n",
       "<style scoped>\n",
       "    .dataframe tbody tr th:only-of-type {\n",
       "        vertical-align: middle;\n",
       "    }\n",
       "\n",
       "    .dataframe tbody tr th {\n",
       "        vertical-align: top;\n",
       "    }\n",
       "\n",
       "    .dataframe thead th {\n",
       "        text-align: right;\n",
       "    }\n",
       "</style>\n",
       "<table border=\"1\" class=\"dataframe\">\n",
       "  <thead>\n",
       "    <tr style=\"text-align: right;\">\n",
       "      <th></th>\n",
       "      <th>session_id</th>\n",
       "      <th>player_id</th>\n",
       "      <th>start_ts</th>\n",
       "      <th>end_ts</th>\n",
       "      <th>device</th>\n",
       "    </tr>\n",
       "  </thead>\n",
       "  <tbody>\n",
       "    <tr>\n",
       "      <th>0</th>\n",
       "      <td>1</td>\n",
       "      <td>1</td>\n",
       "      <td>2025-02-19 19:16:26</td>\n",
       "      <td>2025-02-19 20:12:26</td>\n",
       "      <td>Android</td>\n",
       "    </tr>\n",
       "    <tr>\n",
       "      <th>1</th>\n",
       "      <td>2</td>\n",
       "      <td>1</td>\n",
       "      <td>2025-02-08 20:27:26</td>\n",
       "      <td>2025-02-08 20:56:26</td>\n",
       "      <td>Android</td>\n",
       "    </tr>\n",
       "    <tr>\n",
       "      <th>2</th>\n",
       "      <td>3</td>\n",
       "      <td>2</td>\n",
       "      <td>2025-01-12 12:47:12</td>\n",
       "      <td>2025-01-12 13:22:12</td>\n",
       "      <td>iOS</td>\n",
       "    </tr>\n",
       "    <tr>\n",
       "      <th>3</th>\n",
       "      <td>4</td>\n",
       "      <td>2</td>\n",
       "      <td>2025-04-10 10:33:12</td>\n",
       "      <td>2025-04-10 11:01:12</td>\n",
       "      <td>iOS</td>\n",
       "    </tr>\n",
       "    <tr>\n",
       "      <th>4</th>\n",
       "      <td>5</td>\n",
       "      <td>2</td>\n",
       "      <td>2025-04-15 22:52:12</td>\n",
       "      <td>2025-04-15 23:23:12</td>\n",
       "      <td>Android</td>\n",
       "    </tr>\n",
       "  </tbody>\n",
       "</table>\n",
       "</div>"
      ],
      "text/plain": [
       "   session_id  player_id             start_ts               end_ts   device\n",
       "0           1          1  2025-02-19 19:16:26  2025-02-19 20:12:26  Android\n",
       "1           2          1  2025-02-08 20:27:26  2025-02-08 20:56:26  Android\n",
       "2           3          2  2025-01-12 12:47:12  2025-01-12 13:22:12      iOS\n",
       "3           4          2  2025-04-10 10:33:12  2025-04-10 11:01:12      iOS\n",
       "4           5          2  2025-04-15 22:52:12  2025-04-15 23:23:12  Android"
      ]
     },
     "metadata": {},
     "output_type": "display_data"
    },
    {
     "data": {
      "text/plain": [
       "(100206, 5)"
      ]
     },
     "execution_count": 4,
     "metadata": {},
     "output_type": "execute_result"
    }
   ],
   "source": [
    "display(sessions_df.head())\n",
    "sessions_df.shape"
   ]
  },
  {
   "cell_type": "code",
   "execution_count": 5,
   "id": "110b8d12-01cf-4ac2-855a-d913fe1a2891",
   "metadata": {},
   "outputs": [
    {
     "data": {
      "text/html": [
       "<div>\n",
       "<style scoped>\n",
       "    .dataframe tbody tr th:only-of-type {\n",
       "        vertical-align: middle;\n",
       "    }\n",
       "\n",
       "    .dataframe tbody tr th {\n",
       "        vertical-align: top;\n",
       "    }\n",
       "\n",
       "    .dataframe thead th {\n",
       "        text-align: right;\n",
       "    }\n",
       "</style>\n",
       "<table border=\"1\" class=\"dataframe\">\n",
       "  <thead>\n",
       "    <tr style=\"text-align: right;\">\n",
       "      <th></th>\n",
       "      <th>tourney_id</th>\n",
       "      <th>start_ts</th>\n",
       "      <th>entry_fee</th>\n",
       "      <th>prize_pool</th>\n",
       "      <th>avggrade_min</th>\n",
       "      <th>avggrade_max</th>\n",
       "    </tr>\n",
       "  </thead>\n",
       "  <tbody>\n",
       "    <tr>\n",
       "      <th>0</th>\n",
       "      <td>1</td>\n",
       "      <td>2025-02-03 13:20:17</td>\n",
       "      <td>1</td>\n",
       "      <td>32</td>\n",
       "      <td>14</td>\n",
       "      <td>32</td>\n",
       "    </tr>\n",
       "    <tr>\n",
       "      <th>1</th>\n",
       "      <td>2</td>\n",
       "      <td>2025-03-12 02:50:52</td>\n",
       "      <td>5</td>\n",
       "      <td>200</td>\n",
       "      <td>48</td>\n",
       "      <td>56</td>\n",
       "    </tr>\n",
       "    <tr>\n",
       "      <th>2</th>\n",
       "      <td>3</td>\n",
       "      <td>2025-02-11 13:41:07</td>\n",
       "      <td>2</td>\n",
       "      <td>132</td>\n",
       "      <td>36</td>\n",
       "      <td>53</td>\n",
       "    </tr>\n",
       "    <tr>\n",
       "      <th>3</th>\n",
       "      <td>4</td>\n",
       "      <td>2024-12-16 06:03:55</td>\n",
       "      <td>1</td>\n",
       "      <td>84</td>\n",
       "      <td>7</td>\n",
       "      <td>21</td>\n",
       "    </tr>\n",
       "    <tr>\n",
       "      <th>4</th>\n",
       "      <td>5</td>\n",
       "      <td>2025-02-16 18:09:41</td>\n",
       "      <td>10</td>\n",
       "      <td>260</td>\n",
       "      <td>32</td>\n",
       "      <td>47</td>\n",
       "    </tr>\n",
       "  </tbody>\n",
       "</table>\n",
       "</div>"
      ],
      "text/plain": [
       "   tourney_id             start_ts  entry_fee  prize_pool  avggrade_min  \\\n",
       "0           1  2025-02-03 13:20:17          1          32            14   \n",
       "1           2  2025-03-12 02:50:52          5         200            48   \n",
       "2           3  2025-02-11 13:41:07          2         132            36   \n",
       "3           4  2024-12-16 06:03:55          1          84             7   \n",
       "4           5  2025-02-16 18:09:41         10         260            32   \n",
       "\n",
       "   avggrade_max  \n",
       "0            32  \n",
       "1            56  \n",
       "2            53  \n",
       "3            21  \n",
       "4            47  "
      ]
     },
     "metadata": {},
     "output_type": "display_data"
    },
    {
     "data": {
      "text/plain": [
       "(500, 6)"
      ]
     },
     "execution_count": 5,
     "metadata": {},
     "output_type": "execute_result"
    }
   ],
   "source": [
    "display(tournaments_df.head())\n",
    "tournaments_df.shape"
   ]
  },
  {
   "cell_type": "code",
   "execution_count": 6,
   "id": "8fbce6cb-9351-48ce-98d8-8d5787af3146",
   "metadata": {},
   "outputs": [
    {
     "data": {
      "text/html": [
       "<div>\n",
       "<style scoped>\n",
       "    .dataframe tbody tr th:only-of-type {\n",
       "        vertical-align: middle;\n",
       "    }\n",
       "\n",
       "    .dataframe tbody tr th {\n",
       "        vertical-align: top;\n",
       "    }\n",
       "\n",
       "    .dataframe thead th {\n",
       "        text-align: right;\n",
       "    }\n",
       "</style>\n",
       "<table border=\"1\" class=\"dataframe\">\n",
       "  <thead>\n",
       "    <tr style=\"text-align: right;\">\n",
       "      <th></th>\n",
       "      <th>txn_id</th>\n",
       "      <th>player_id</th>\n",
       "      <th>txn_ts</th>\n",
       "      <th>txn_type</th>\n",
       "      <th>amount</th>\n",
       "    </tr>\n",
       "  </thead>\n",
       "  <tbody>\n",
       "    <tr>\n",
       "      <th>0</th>\n",
       "      <td>1</td>\n",
       "      <td>1</td>\n",
       "      <td>2025-03-28 11:31:26</td>\n",
       "      <td>reward</td>\n",
       "      <td>34.59</td>\n",
       "    </tr>\n",
       "    <tr>\n",
       "      <th>1</th>\n",
       "      <td>2</td>\n",
       "      <td>1</td>\n",
       "      <td>2024-12-26 17:50:26</td>\n",
       "      <td>entry_fee</td>\n",
       "      <td>10.00</td>\n",
       "    </tr>\n",
       "    <tr>\n",
       "      <th>2</th>\n",
       "      <td>3</td>\n",
       "      <td>1</td>\n",
       "      <td>2024-12-21 02:28:26</td>\n",
       "      <td>deposit</td>\n",
       "      <td>90.73</td>\n",
       "    </tr>\n",
       "    <tr>\n",
       "      <th>3</th>\n",
       "      <td>4</td>\n",
       "      <td>1</td>\n",
       "      <td>2025-02-24 10:08:26</td>\n",
       "      <td>entry_fee</td>\n",
       "      <td>5.00</td>\n",
       "    </tr>\n",
       "    <tr>\n",
       "      <th>4</th>\n",
       "      <td>5</td>\n",
       "      <td>1</td>\n",
       "      <td>2025-01-13 19:05:26</td>\n",
       "      <td>entry_fee</td>\n",
       "      <td>20.00</td>\n",
       "    </tr>\n",
       "  </tbody>\n",
       "</table>\n",
       "</div>"
      ],
      "text/plain": [
       "   txn_id  player_id               txn_ts   txn_type  amount\n",
       "0       1          1  2025-03-28 11:31:26     reward   34.59\n",
       "1       2          1  2024-12-26 17:50:26  entry_fee   10.00\n",
       "2       3          1  2024-12-21 02:28:26    deposit   90.73\n",
       "3       4          1  2025-02-24 10:08:26  entry_fee    5.00\n",
       "4       5          1  2025-01-13 19:05:26  entry_fee   20.00"
      ]
     },
     "metadata": {},
     "output_type": "display_data"
    },
    {
     "data": {
      "text/plain": [
       "(49887, 5)"
      ]
     },
     "execution_count": 6,
     "metadata": {},
     "output_type": "execute_result"
    }
   ],
   "source": [
    "display(transactions_df.head())\n",
    "transactions_df.shape"
   ]
  },
  {
   "cell_type": "code",
   "execution_count": 7,
   "id": "a5623297-0cea-4df8-bf52-625843445ea4",
   "metadata": {},
   "outputs": [],
   "source": [
    "# Convert date columns to datetime\n",
    "players_df['signup_date'] = pd.to_datetime(players_df['signup_date'])\n",
    "\n",
    "sessions_df['start_ts'] = pd.to_datetime(sessions_df['start_ts'])\n",
    "sessions_df['end_ts'] = pd.to_datetime(sessions_df['end_ts'])\n",
    "\n",
    "tournaments_df['start_ts'] = pd.to_datetime(tournaments_df['start_ts'])\n",
    "\n",
    "transactions_df['txn_ts'] = pd.to_datetime(transactions_df['txn_ts'])\n"
   ]
  },
  {
   "cell_type": "markdown",
   "id": "6d09d2b8-89e3-4a58-b801-7d5719624dc1",
   "metadata": {},
   "source": [
    "# Part A"
   ]
  },
  {
   "cell_type": "markdown",
   "id": "2c311f66-1f4d-4007-bb03-622e5cbaa667",
   "metadata": {},
   "source": [
    "## 1 KPIs notebook or sheet showing:"
   ]
  },
  {
   "cell_type": "markdown",
   "id": "fd7b4341-8eca-4c8f-a9b7-96f36aa920d4",
   "metadata": {},
   "source": [
    "### Day 1 retention"
   ]
  },
  {
   "cell_type": "code",
   "execution_count": 8,
   "id": "b21077c5-d298-4aed-958d-18a12f919c8d",
   "metadata": {},
   "outputs": [
    {
     "name": "stdout",
     "output_type": "stream",
     "text": [
      "Day-1 Retention: 3.21%\n"
     ]
    }
   ],
   "source": [
    "# Merge sessions with players to get signup_date for each session\n",
    "merged_df = sessions_df.merge(players_df, on='player_id')\n",
    "\n",
    "# Calculate session day relative to signup\n",
    "merged_df['session_day'] = (merged_df['start_ts'].dt.date - merged_df['signup_date'].dt.date).dt.days\n",
    "\n",
    "# Filter for Day 1 sessions\n",
    "day1_sessions = merged_df[merged_df['session_day'] == 1]\n",
    "\n",
    "# Unique players who returned on Day 1\n",
    "day1_players = day1_sessions['player_id'].nunique()\n",
    "\n",
    "# Total new players (Day 0 installs)\n",
    "total_players = players_df['player_id'].nunique()\n",
    "\n",
    "# Day-1 retention rate\n",
    "day1_retention = (day1_players / total_players) * 100\n",
    "\n",
    "print(f\"Day-1 Retention: {day1_retention:.2f}%\")"
   ]
  },
  {
   "cell_type": "markdown",
   "id": "29603f83-f657-440b-9de3-c574ec127855",
   "metadata": {
    "jp-MarkdownHeadingCollapsed": true
   },
   "source": [
    "#### 24 hours retention"
   ]
  },
  {
   "cell_type": "code",
   "execution_count": null,
   "id": "1aa99d6b-a4d1-428d-80e7-8fd356b924f9",
   "metadata": {},
   "outputs": [],
   "source": [
    "# Merge to associate sessions with signup time\n",
    "merged_df = sessions_df.merge(players_df, on='player_id')\n",
    "\n",
    "# Filter sessions that occurred after signup\n",
    "merged_df = merged_df[merged_df['start_ts'] > merged_df['signup_date']]\n",
    "\n",
    "# Filter sessions that occurred within 24 hours after signup\n",
    "merged_df['hours_since_signup'] = (merged_df['start_ts'] - merged_df['signup_date']).dt.total_seconds() / 3600\n",
    "day1_sessions = merged_df[merged_df['hours_since_signup'] <= 24]\n",
    "\n",
    "# Unique players who returned within 24 hours\n",
    "day1_players = day1_sessions['player_id'].nunique()\n",
    "\n",
    "# Total number of new players\n",
    "total_players = players_df['player_id'].nunique()\n",
    "\n",
    "# Day-1 (24hr) retention rate\n",
    "day1_retention = (day1_players / total_players) * 100\n",
    "\n",
    "print(f\"Day-1 (24hr) Retention: {day1_retention:.2f}%\")"
   ]
  },
  {
   "cell_type": "markdown",
   "id": "c01f3183-91e3-4ec1-8a99-a15e33b2e894",
   "metadata": {},
   "source": [
    "### 7-day cumulative ARPU (USD)"
   ]
  },
  {
   "cell_type": "code",
   "execution_count": 12,
   "id": "422d70fd-9119-4114-8e77-f8ba77960bc7",
   "metadata": {},
   "outputs": [
    {
     "data": {
      "text/plain": [
       "array(['entry_fee', 'withdrawal', 'deposit', 'reward'], dtype=object)"
      ]
     },
     "execution_count": 12,
     "metadata": {},
     "output_type": "execute_result"
    }
   ],
   "source": [
    "valid_txns['txn_type'].unique()"
   ]
  },
  {
   "cell_type": "code",
   "execution_count": 17,
   "id": "98e4effe-4403-4b78-9c00-c87c3de46806",
   "metadata": {},
   "outputs": [
    {
     "data": {
      "text/plain": [
       "133      76.53\n",
       "208      45.42\n",
       "363      76.16\n",
       "386      45.18\n",
       "399      58.17\n",
       "         ...  \n",
       "49709    14.17\n",
       "49729    94.81\n",
       "49794    91.36\n",
       "49824    90.93\n",
       "49877    72.76\n",
       "Name: amount, Length: 896, dtype: float64"
      ]
     },
     "execution_count": 17,
     "metadata": {},
     "output_type": "execute_result"
    }
   ],
   "source": [
    "valid_txns[valid_txns['txn_type'] == 'deposit']['amount']"
   ]
  },
  {
   "cell_type": "code",
   "execution_count": 18,
   "id": "c0cdf7f8-61a3-46e4-9361-db6db02d3787",
   "metadata": {},
   "outputs": [
    {
     "name": "stdout",
     "output_type": "stream",
     "text": [
      "7-Day Cumulative ARPU: $1.86\n"
     ]
    }
   ],
   "source": [
    "# Merge transactions with signup dates\n",
    "merged_df = transactions_df.merge(players_df, on='player_id')\n",
    "\n",
    "# Filter transactions within 7 days (i.e., first 7*24 = 168 hours after signup)\n",
    "merged_df['hours_since_signup'] = (merged_df['txn_ts'] - merged_df['signup_date']).dt.total_seconds() / 3600\n",
    "valid_txns = merged_df[merged_df['hours_since_signup'] <= 168]\n",
    "\n",
    "# Total revenue from those transactions (assumes 'amount' is in USD)\n",
    "total_deposits = valid_txns[valid_txns['txn_type'] == 'deposit']['amount'].sum()\n",
    "total_withdrawal = valid_txns[valid_txns['txn_type'] == 'withdrawal']['amount'].sum()\n",
    "total_revenue = total_deposits - total_withdrawal\n",
    "\n",
    "# Total number of new users\n",
    "total_users = players_df['player_id'].nunique()\n",
    "\n",
    "# 7-day cumulative ARPU\n",
    "arpu_7_day = total_revenue / total_users\n",
    "\n",
    "print(f\"7-Day Cumulative ARPU: ${arpu_7_day:.2f}\")"
   ]
  },
  {
   "cell_type": "markdown",
   "id": "8e052951-accd-4d40-9db2-dea6e8dfab70",
   "metadata": {},
   "source": [
    "### 30-day churn rate (%)"
   ]
  },
  {
   "cell_type": "code",
   "execution_count": 19,
   "id": "11a0cf36-d78e-45c3-be7e-60b463c1ddd4",
   "metadata": {},
   "outputs": [
    {
     "name": "stdout",
     "output_type": "stream",
     "text": [
      "30-Day Churn Rate: 41.37%\n"
     ]
    }
   ],
   "source": [
    "# Merge sessions with signup dates\n",
    "merged_df = sessions_df.merge(players_df, on='player_id')\n",
    "\n",
    "# Calculate time since signup\n",
    "merged_df['days_since_signup'] = (merged_df['start_ts'] - merged_df['signup_date']).dt.days\n",
    "\n",
    "# Filter sessions within 30 days after signup (excluding Day 0)\n",
    "active_within_30d = merged_df[(merged_df['days_since_signup'] > 0) & (merged_df['days_since_signup'] <= 30)]\n",
    "\n",
    "# Players who had at least one session within 30 days\n",
    "retained_players = active_within_30d['player_id'].unique()\n",
    "\n",
    "# All new players\n",
    "all_players = players_df['player_id'].unique()\n",
    "\n",
    "# Players who churned = those not in retained_players\n",
    "churned_players = set(all_players) - set(retained_players)\n",
    "\n",
    "# 30-day churn rate\n",
    "churn_rate_30d = (len(churned_players) / len(all_players)) * 100\n",
    "\n",
    "print(f\"30-Day Churn Rate: {churn_rate_30d:.2f}%\")"
   ]
  },
  {
   "cell_type": "markdown",
   "id": "52b6d90c-03e1-4802-ac8d-fa0975432b51",
   "metadata": {},
   "source": [
    "## 2. Insight memo:"
   ]
  },
  {
   "cell_type": "markdown",
   "id": "ea8a8ef0-27ae-421b-9a75-83299a5d602a",
   "metadata": {},
   "source": [
    "### What is the biggest monetisation opportunity for Q3?"
   ]
  },
  {
   "cell_type": "code",
   "execution_count": 22,
   "id": "11535aa1-d106-4fdb-bda6-de476d388ef9",
   "metadata": {},
   "outputs": [
    {
     "name": "stdout",
     "output_type": "stream",
     "text": [
      "2024-11-01 20:42:13\n",
      "2025-06-29 18:37:43\n"
     ]
    }
   ],
   "source": [
    "print(transactions_df['txn_ts'].min())\n",
    "print(transactions_df['txn_ts'].max())"
   ]
  },
  {
   "cell_type": "raw",
   "id": "94938e8f-41e8-4996-8e66-d7d83c70ab55",
   "metadata": {},
   "source": [
    "Seems like we get some future transactions"
   ]
  },
  {
   "cell_type": "code",
   "execution_count": 23,
   "id": "bf289892-f5dd-483e-b79c-9f7f1dde65ee",
   "metadata": {},
   "outputs": [
    {
     "name": "stdout",
     "output_type": "stream",
     "text": [
      "   quarter     amount\n",
      "0        1  592340.77\n",
      "1        2  313404.28\n"
     ]
    }
   ],
   "source": [
    "# Filter + copy to avoid SettingWithCopyWarning\n",
    "deposits_2025 = transactions_df[\n",
    "    (transactions_df['txn_ts'].dt.year == 2025) &\n",
    "    (transactions_df['txn_type'] == 'deposit')\n",
    "].copy()\n",
    "\n",
    "# Now it's safe to add a column\n",
    "deposits_2025['quarter'] = deposits_2025['txn_ts'].dt.quarter\n",
    "\n",
    "# Group and sum\n",
    "q_deposit_summary = deposits_2025.groupby('quarter')['amount'].sum().reset_index()\n",
    "print(q_deposit_summary)"
   ]
  },
  {
   "cell_type": "code",
   "execution_count": 24,
   "id": "c06e9e56-b6ec-4602-bf48-86ac9fd5eb0c",
   "metadata": {},
   "outputs": [
    {
     "data": {
      "image/png": "[encoded data removed]",
      "text/plain": [
       "<Figure size 1000x600 with 1 Axes>"
      ]
     },
     "metadata": {},
     "output_type": "display_data"
    }
   ],
   "source": [
    "# Filter for deposits only in 2025\n",
    "deposits_2025 = transactions_df[\n",
    "    (transactions_df['txn_ts'].dt.year == 2025) &\n",
    "    (transactions_df['txn_type'] == 'deposit')\n",
    "].copy()\n",
    "\n",
    "# Group by month and sum amounts\n",
    "deposits_2025['month'] = deposits_2025['txn_ts'].dt.to_period('M')\n",
    "monthly_revenue = deposits_2025.groupby('month')['amount'].sum().reset_index()\n",
    "monthly_revenue['month'] = monthly_revenue['month'].astype(str)\n",
    "\n",
    "# Plot\n",
    "plt.figure(figsize=(10, 6))\n",
    "plt.plot(monthly_revenue['month'], monthly_revenue['amount'], marker='o')\n",
    "plt.title(\"Monthly Deposit Revenue (2025)\", fontsize=14)\n",
    "plt.xlabel(\"Month\")\n",
    "plt.ylabel(\"Deposit Amount (USD)\")\n",
    "plt.grid(True)\n",
    "plt.xticks(rotation=45)\n",
    "plt.tight_layout()\n",
    "\n",
    "plt.show()"
   ]
  },
  {
   "cell_type": "raw",
   "id": "c2b65cbe-28c5-4bb4-90d5-e2a9e878fd5a",
   "metadata": {},
   "source": [
    "We have a sharp decline in the amount user deposits into our game\n",
    "Let's explore users engagement"
   ]
  },
  {
   "cell_type": "code",
   "execution_count": null,
   "id": "5b4409e7-c9a5-441b-a4fc-e4aac8b44e78",
   "metadata": {},
   "outputs": [],
   "source": [
    "# Add quarter\n",
    "sessions_df['quarter'] = sessions_df['start_ts'].dt.quarter\n",
    "sessions_df['year'] = sessions_df['start_ts'].dt.year\n",
    "\n",
    "# Filter 2025 only\n",
    "sessions_2025 = sessions_df[sessions_df['year'] == 2025]"
   ]
  },
  {
   "cell_type": "code",
   "execution_count": null,
   "id": "ff3c2999-afdd-4b3d-903b-931b89eee7ce",
   "metadata": {},
   "outputs": [],
   "source": [
    "engagement_summary = sessions_2025.groupby('quarter').agg(\n",
    "    unique_players=('player_id', 'nunique'),\n",
    "    total_sessions=('session_id', 'count')\n",
    ").reset_index()\n",
    "\n",
    "# Add sessions per player\n",
    "engagement_summary['sessions_per_player'] = (\n",
    "    engagement_summary['total_sessions'] / engagement_summary['unique_players']\n",
    ")\n",
    "\n",
    "print(engagement_summary)"
   ]
  },
  {
   "cell_type": "raw",
   "id": "a5a95921-97be-4ce5-89d9-b538618c6ee2",
   "metadata": {},
   "source": [
    "That’s a ~27% drop in active players and ~48% drop in sessions. Plus, each player is playing less.\n",
    "Let's explore which users have churned"
   ]
  },
  {
   "cell_type": "code",
   "execution_count": null,
   "id": "6c5b39a3-92a7-4c78-8055-ab6542b8f569",
   "metadata": {},
   "outputs": [],
   "source": [
    "# Players active in Q1 and Q2\n",
    "q1_players = set(sessions_2025[sessions_2025['quarter'] == 1]['player_id'])\n",
    "q2_players = set(sessions_2025[sessions_2025['quarter'] == 2]['player_id'])\n",
    "\n",
    "# Churned: in Q1 but not in Q2\n",
    "churned_players = q1_players - q2_players\n",
    "\n",
    "print(\"Churned players count:\", len(churned_players))"
   ]
  },
  {
   "cell_type": "code",
   "execution_count": null,
   "id": "81e88d8f-fdc9-4fda-85e8-c1a3d66bd390",
   "metadata": {},
   "outputs": [],
   "source": [
    "# Get Q1 deposits\n",
    "q1_deposits = transactions_df[\n",
    "    (transactions_df['txn_ts'].dt.year == 2025) &\n",
    "    (transactions_df['txn_ts'].dt.quarter == 1) &\n",
    "    (transactions_df['txn_type'] == 'deposit') &\n",
    "    (transactions_df['player_id'].isin(churned_players))\n",
    "]\n",
    "\n",
    "print(f\"Total Q1 deposits from churned players: {q1_deposits['amount'].sum():.2f}$\")"
   ]
  },
  {
   "cell_type": "raw",
   "id": "93d700aa-217f-4ab0-9642-b829a261845b",
   "metadata": {},
   "source": [
    "We can reach out to churned player, speficifly for those with high past deposits and encorage them to return."
   ]
  },
  {
   "cell_type": "markdown",
   "id": "f8328473-8fa2-4d6d-a002-519102489e1f",
   "metadata": {},
   "source": [
    "### Which cohort needs extra retention effort and why?"
   ]
  },
  {
   "cell_type": "code",
   "execution_count": null,
   "id": "a1cf7da2-9f37-4066-baf9-6892ecde1b1e",
   "metadata": {},
   "outputs": [],
   "source": [
    "players_df['signup_month'] = players_df['signup_date'].dt.to_period('M')"
   ]
  },
  {
   "cell_type": "code",
   "execution_count": null,
   "id": "6419be90-96da-42af-8bbd-8e3f8ccecb80",
   "metadata": {},
   "outputs": [],
   "source": [
    "# Get Q2 active player IDs\n",
    "q2_active_players = set(\n",
    "    sessions_df[\n",
    "        (pd.to_datetime(sessions_df['start_ts']).dt.year == 2025) &\n",
    "        (pd.to_datetime(sessions_df['start_ts']).dt.quarter == 2)\n",
    "    ]['player_id']\n",
    ")\n",
    "\n",
    "# Add retention flag\n",
    "players_df['retained_in_q2'] = players_df['player_id'].isin(q2_active_players)"
   ]
  },
  {
   "cell_type": "code",
   "execution_count": null,
   "id": "db1dd997-6a55-4dd7-8196-9a4f64addae1",
   "metadata": {},
   "outputs": [],
   "source": [
    "cohort_retention = players_df.groupby('signup_month')['retained_in_q2'].mean().reset_index()\n",
    "cohort_retention.columns = ['signup_month', 'q2_retention_rate']\n",
    "print(cohort_retention.sort_values('q2_retention_rate'))"
   ]
  },
  {
   "cell_type": "raw",
   "id": "8b0c5095-5642-49bb-8992-63ab2d548ab0",
   "metadata": {},
   "source": [
    "Seems like the retention gets worse for each cohort, but this could be \"survivorship bias\". let's check the 30d retention"
   ]
  },
  {
   "cell_type": "code",
   "execution_count": null,
   "id": "7ea1a080-bbcc-4dd0-9337-d5f1eb3ee2f5",
   "metadata": {},
   "outputs": [],
   "source": [
    "# Join sessions with players\n",
    "merged_df = sessions_df.merge(players_df[['player_id', 'signup_date']], on='player_id')\n",
    "\n",
    "# Keep only sessions within 30 days of signup\n",
    "merged_df['days_since_signup'] = (merged_df['start_ts'] - merged_df['signup_date']).dt.days\n",
    "month1_sessions = merged_df[merged_df['days_since_signup'].between(0, 30)]\n",
    "\n",
    "# Flag retained players\n",
    "retained_players = month1_sessions['player_id'].unique()\n",
    "players_df['month1_retained'] = players_df['player_id'].isin(retained_players)\n",
    "\n",
    "# Add signup month\n",
    "players_df['signup_month'] = players_df['signup_date'].dt.to_period('M')\n",
    "\n",
    "# Calculate Month-1 retention rate per cohort\n",
    "cohort_retention_30d = players_df.groupby('signup_month')['month1_retained'].mean().reset_index()\n",
    "cohort_retention_30d.columns = ['signup_month', 'month1_retention_rate']\n",
    "print(cohort_retention_30d.sort_values('month1_retention_rate'))"
   ]
  },
  {
   "cell_type": "raw",
   "id": "0f2e2ece-3c49-4c08-8c0e-2cb23f76ead7",
   "metadata": {},
   "source": [
    "similar month1 retention\n",
    "let's check cohort deposits"
   ]
  },
  {
   "cell_type": "code",
   "execution_count": null,
   "id": "32ee9a51-1144-4edc-8161-677e111f7ee6",
   "metadata": {},
   "outputs": [],
   "source": [
    "# Join transactions to players\n",
    "merged_txn = transactions_df.merge(players_df[['player_id', 'signup_month']], on='player_id')\n",
    "\n",
    "# Filter for deposits\n",
    "deposits = merged_txn[merged_txn['txn_type'] == 'deposit']\n",
    "\n",
    "# Sum deposits per cohort\n",
    "cohort_revenue = deposits.groupby('signup_month')['amount'].sum().reset_index()\n",
    "cohort_revenue.columns = ['signup_month', 'total_deposits']\n",
    "print(cohort_revenue.sort_values('total_deposits'))"
   ]
  }
 ],
 "metadata": {
  "kernelspec": {
   "display_name": "Python (gameStory)",
   "language": "python",
   "name": "gamestory"
  },
  "language_info": {
   "codemirror_mode": {
    "name": "ipython",
    "version": 3
   },
   "file_extension": ".py",
   "mimetype": "text/x-python",
   "name": "python",
   "nbconvert_exporter": "python",
   "pygments_lexer": "ipython3",
   "version": "3.8.20"
  }
 },
 "nbformat": 4,
 "nbformat_minor": 5
}
